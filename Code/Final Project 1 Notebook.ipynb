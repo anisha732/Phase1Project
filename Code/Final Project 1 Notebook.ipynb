{
 "cells": [
  {
   "cell_type": "markdown",
   "metadata": {},
   "source": [
    "#     <center>        Thai Restaurant vs. Mexican Restaurant in NYC </center>\n",
    "\n",
    "<img src=\"https://www.nycinsiderguide.com/wp-content/uploads/2019/05/restaurant-week-new-york-city.jpg\" alt= \"Various Cuisine Image\" width=\"600\" height=\"300\" > \n"
   ]
  },
  {
   "cell_type": "markdown",
   "metadata": {},
   "source": [
    "# Overview\n",
    "This project analyzes Yelp restaurant data in New York City. The analysis shows a competitive landscape in the NYC restaurant industry, with many options in all cuisines, prices and restaurant offerings."
   ]
  },
  {
   "cell_type": "markdown",
   "metadata": {},
   "source": [
    "# Business Problem\n",
    "Restaurant investors who specialize in both Thai and Mexican cuisines need data analysis to see which cusine would be more successful in New York City. Data shows that both types of cuisines are abundant in the city, which required a deeper analysis to determine which type of restaurant would be a better investment. "
   ]
  },
  {
   "cell_type": "markdown",
   "metadata": {},
   "source": [
    "# Data\n",
    "The Yelp Fusion API allows users to retreive various data regarding different businesses. Every business has descriptive data associated with its business including a unique id, price, rating, etc. Additionally, each business has review data associated with it, which included a unique review id, date the review was created, and the text. In order to have a deep analysis, both business and review data for several businesses were pulled and analyzed."
   ]
  },
  {
   "cell_type": "code",
   "execution_count": 1,
   "metadata": {},
   "outputs": [],
   "source": [
    "import pandas as pd\n",
    "import requests\n",
    "import json\n",
    "import numpy as np\n",
    "import matplotlib.pyplot as plt\n",
    "import seaborn as sns\n",
    "import geopandas as gpd\n",
    "from datetime import datetime\n",
    "from functions import *"
   ]
  },
  {
   "cell_type": "markdown",
   "metadata": {},
   "source": [
    "### Business Data\n",
    "The Thai and Mexican restaurant data sets include a variety of columns. The analysis primarily focused on price, rating, review count, and transaction type columns. After pulling in the data from the Yelp API, the data was parsed, then saved as a csv file."
   ]
  },
  {
   "cell_type": "code",
   "execution_count": 10,
   "metadata": {},
   "outputs": [
    {
     "data": {
      "text/html": [
       "<div>\n",
       "<style scoped>\n",
       "    .dataframe tbody tr th:only-of-type {\n",
       "        vertical-align: middle;\n",
       "    }\n",
       "\n",
       "    .dataframe tbody tr th {\n",
       "        vertical-align: top;\n",
       "    }\n",
       "\n",
       "    .dataframe thead th {\n",
       "        text-align: right;\n",
       "    }\n",
       "</style>\n",
       "<table border=\"1\" class=\"dataframe\">\n",
       "  <thead>\n",
       "    <tr style=\"text-align: right;\">\n",
       "      <th></th>\n",
       "      <th>Unnamed: 0</th>\n",
       "      <th>Id</th>\n",
       "      <th>Name</th>\n",
       "      <th>Location</th>\n",
       "      <th>Rating</th>\n",
       "      <th>Price</th>\n",
       "      <th>Zipcode</th>\n",
       "      <th>Pickup</th>\n",
       "      <th>Delivery</th>\n",
       "      <th>Reservation</th>\n",
       "      <th>Review Count</th>\n",
       "      <th>Categories</th>\n",
       "      <th>Status</th>\n",
       "      <th>type</th>\n",
       "    </tr>\n",
       "  </thead>\n",
       "  <tbody>\n",
       "    <tr>\n",
       "      <th>0</th>\n",
       "      <td>0.0</td>\n",
       "      <td>uazg6WhYVOw3jhWCG_MDBg</td>\n",
       "      <td>Sup Thai Kitchen</td>\n",
       "      <td>178-19 Union Tpke</td>\n",
       "      <td>4.5</td>\n",
       "      <td>2</td>\n",
       "      <td>11366</td>\n",
       "      <td>True</td>\n",
       "      <td>True</td>\n",
       "      <td>False</td>\n",
       "      <td>374</td>\n",
       "      <td>[{'alias': 'thai', 'title': 'Thai'}, {'alias':...</td>\n",
       "      <td>False</td>\n",
       "      <td>Thai</td>\n",
       "    </tr>\n",
       "    <tr>\n",
       "      <th>1</th>\n",
       "      <td>1.0</td>\n",
       "      <td>cegA4jf16vEt7NCQ7cpu2w</td>\n",
       "      <td>Kin'd</td>\n",
       "      <td>192-03 Union Tpke</td>\n",
       "      <td>4.5</td>\n",
       "      <td>2</td>\n",
       "      <td>11366</td>\n",
       "      <td>True</td>\n",
       "      <td>True</td>\n",
       "      <td>False</td>\n",
       "      <td>768</td>\n",
       "      <td>[{'alias': 'thai', 'title': 'Thai'}]</td>\n",
       "      <td>False</td>\n",
       "      <td>Thai</td>\n",
       "    </tr>\n",
       "  </tbody>\n",
       "</table>\n",
       "</div>"
      ],
      "text/plain": [
       "   Unnamed: 0                      Id              Name           Location  \\\n",
       "0         0.0  uazg6WhYVOw3jhWCG_MDBg  Sup Thai Kitchen  178-19 Union Tpke   \n",
       "1         1.0  cegA4jf16vEt7NCQ7cpu2w             Kin'd  192-03 Union Tpke   \n",
       "\n",
       "   Rating  Price Zipcode Pickup Delivery Reservation  Review Count  \\\n",
       "0     4.5      2   11366   True     True       False           374   \n",
       "1     4.5      2   11366   True     True       False           768   \n",
       "\n",
       "                                          Categories Status  type  \n",
       "0  [{'alias': 'thai', 'title': 'Thai'}, {'alias':...  False  Thai  \n",
       "1               [{'alias': 'thai', 'title': 'Thai'}]  False  Thai  "
      ]
     },
     "execution_count": 10,
     "metadata": {},
     "output_type": "execute_result"
    }
   ],
   "source": [
    "thaidf.head(2)"
   ]
  },
  {
   "cell_type": "code",
   "execution_count": 11,
   "metadata": {},
   "outputs": [
    {
     "data": {
      "text/html": [
       "<div>\n",
       "<style scoped>\n",
       "    .dataframe tbody tr th:only-of-type {\n",
       "        vertical-align: middle;\n",
       "    }\n",
       "\n",
       "    .dataframe tbody tr th {\n",
       "        vertical-align: top;\n",
       "    }\n",
       "\n",
       "    .dataframe thead th {\n",
       "        text-align: right;\n",
       "    }\n",
       "</style>\n",
       "<table border=\"1\" class=\"dataframe\">\n",
       "  <thead>\n",
       "    <tr style=\"text-align: right;\">\n",
       "      <th></th>\n",
       "      <th>Unnamed: 0</th>\n",
       "      <th>Id</th>\n",
       "      <th>Name</th>\n",
       "      <th>Location</th>\n",
       "      <th>Rating</th>\n",
       "      <th>Price</th>\n",
       "      <th>Zipcode</th>\n",
       "      <th>Pickup</th>\n",
       "      <th>Delivery</th>\n",
       "      <th>Reservation</th>\n",
       "      <th>Review Count</th>\n",
       "      <th>Categories</th>\n",
       "      <th>Status</th>\n",
       "      <th>type</th>\n",
       "    </tr>\n",
       "  </thead>\n",
       "  <tbody>\n",
       "    <tr>\n",
       "      <th>0</th>\n",
       "      <td>0.0</td>\n",
       "      <td>7YYp_2WYWdRSt_NohV7Psw</td>\n",
       "      <td>Casa Birria NYC</td>\n",
       "      <td>86th &amp; 3rd Ave</td>\n",
       "      <td>5.0</td>\n",
       "      <td>0</td>\n",
       "      <td>10028</td>\n",
       "      <td>False</td>\n",
       "      <td>False</td>\n",
       "      <td>False</td>\n",
       "      <td>14</td>\n",
       "      <td>[{'alias': 'foodtrucks', 'title': 'Food Trucks...</td>\n",
       "      <td>False</td>\n",
       "      <td>Mexican</td>\n",
       "    </tr>\n",
       "    <tr>\n",
       "      <th>1</th>\n",
       "      <td>1.0</td>\n",
       "      <td>6Ct7OeTRn4caY9g0swFBsw</td>\n",
       "      <td>La Contenta</td>\n",
       "      <td>102 Norfolk St</td>\n",
       "      <td>4.5</td>\n",
       "      <td>2</td>\n",
       "      <td>10002</td>\n",
       "      <td>True</td>\n",
       "      <td>True</td>\n",
       "      <td>False</td>\n",
       "      <td>765</td>\n",
       "      <td>[{'alias': 'mexican', 'title': 'Mexican'}, {'a...</td>\n",
       "      <td>False</td>\n",
       "      <td>Mexican</td>\n",
       "    </tr>\n",
       "  </tbody>\n",
       "</table>\n",
       "</div>"
      ],
      "text/plain": [
       "   Unnamed: 0                      Id             Name        Location  \\\n",
       "0         0.0  7YYp_2WYWdRSt_NohV7Psw  Casa Birria NYC  86th & 3rd Ave   \n",
       "1         1.0  6Ct7OeTRn4caY9g0swFBsw      La Contenta  102 Norfolk St   \n",
       "\n",
       "   Rating  Price Zipcode Pickup Delivery Reservation  Review Count  \\\n",
       "0     5.0      0   10028  False    False       False            14   \n",
       "1     4.5      2   10002   True     True       False           765   \n",
       "\n",
       "                                          Categories Status     type  \n",
       "0  [{'alias': 'foodtrucks', 'title': 'Food Trucks...  False  Mexican  \n",
       "1  [{'alias': 'mexican', 'title': 'Mexican'}, {'a...  False  Mexican  "
      ]
     },
     "execution_count": 11,
     "metadata": {},
     "output_type": "execute_result"
    }
   ],
   "source": [
    "mexdf.head(2)"
   ]
  },
  {
   "cell_type": "markdown",
   "metadata": {},
   "source": [
    "### Review Data\n",
    "\n",
    "Review data was pulled per every restaurant from the business day. The columns focused on were the date, review rating, and review text. After pulling in this data, it was parsed and saved as a csv file as well."
   ]
  },
  {
   "cell_type": "code",
   "execution_count": 12,
   "metadata": {},
   "outputs": [
    {
     "data": {
      "text/html": [
       "<div>\n",
       "<style scoped>\n",
       "    .dataframe tbody tr th:only-of-type {\n",
       "        vertical-align: middle;\n",
       "    }\n",
       "\n",
       "    .dataframe tbody tr th {\n",
       "        vertical-align: top;\n",
       "    }\n",
       "\n",
       "    .dataframe thead th {\n",
       "        text-align: right;\n",
       "    }\n",
       "</style>\n",
       "<table border=\"1\" class=\"dataframe\">\n",
       "  <thead>\n",
       "    <tr style=\"text-align: right;\">\n",
       "      <th></th>\n",
       "      <th>Unnamed: 0</th>\n",
       "      <th>Business ID</th>\n",
       "      <th>ID</th>\n",
       "      <th>Review</th>\n",
       "      <th>Rating</th>\n",
       "      <th>Date</th>\n",
       "    </tr>\n",
       "  </thead>\n",
       "  <tbody>\n",
       "    <tr>\n",
       "      <th>0</th>\n",
       "      <td>0</td>\n",
       "      <td>uazg6WhYVOw3jhWCG_MDBg</td>\n",
       "      <td>eoqQ6cSoPLOd7YWAjWNS4A</td>\n",
       "      <td>Sadly due to Covid 19 disaster , we avoid eati...</td>\n",
       "      <td>5</td>\n",
       "      <td>2020-12-25 15:29:31</td>\n",
       "    </tr>\n",
       "    <tr>\n",
       "      <th>1</th>\n",
       "      <td>1</td>\n",
       "      <td>uazg6WhYVOw3jhWCG_MDBg</td>\n",
       "      <td>jth1qrL_taRqkxNe0r5xSw</td>\n",
       "      <td>Sup Thai Kitchen was recommended by our friend...</td>\n",
       "      <td>5</td>\n",
       "      <td>2020-11-14 18:27:22</td>\n",
       "    </tr>\n",
       "  </tbody>\n",
       "</table>\n",
       "</div>"
      ],
      "text/plain": [
       "   Unnamed: 0             Business ID                      ID  \\\n",
       "0           0  uazg6WhYVOw3jhWCG_MDBg  eoqQ6cSoPLOd7YWAjWNS4A   \n",
       "1           1  uazg6WhYVOw3jhWCG_MDBg  jth1qrL_taRqkxNe0r5xSw   \n",
       "\n",
       "                                              Review  Rating  \\\n",
       "0  Sadly due to Covid 19 disaster , we avoid eati...       5   \n",
       "1  Sup Thai Kitchen was recommended by our friend...       5   \n",
       "\n",
       "                  Date  \n",
       "0  2020-12-25 15:29:31  \n",
       "1  2020-11-14 18:27:22  "
      ]
     },
     "execution_count": 12,
     "metadata": {},
     "output_type": "execute_result"
    }
   ],
   "source": [
    "thai_rev_df.head(2)"
   ]
  },
  {
   "cell_type": "code",
   "execution_count": 13,
   "metadata": {},
   "outputs": [
    {
     "data": {
      "text/html": [
       "<div>\n",
       "<style scoped>\n",
       "    .dataframe tbody tr th:only-of-type {\n",
       "        vertical-align: middle;\n",
       "    }\n",
       "\n",
       "    .dataframe tbody tr th {\n",
       "        vertical-align: top;\n",
       "    }\n",
       "\n",
       "    .dataframe thead th {\n",
       "        text-align: right;\n",
       "    }\n",
       "</style>\n",
       "<table border=\"1\" class=\"dataframe\">\n",
       "  <thead>\n",
       "    <tr style=\"text-align: right;\">\n",
       "      <th></th>\n",
       "      <th>Unnamed: 0</th>\n",
       "      <th>Business ID</th>\n",
       "      <th>ID</th>\n",
       "      <th>Review</th>\n",
       "      <th>Rating</th>\n",
       "      <th>Date</th>\n",
       "    </tr>\n",
       "  </thead>\n",
       "  <tbody>\n",
       "    <tr>\n",
       "      <th>0</th>\n",
       "      <td>0</td>\n",
       "      <td>7YYp_2WYWdRSt_NohV7Psw</td>\n",
       "      <td>kfThRpF-hjfWjwyPgSAYRw</td>\n",
       "      <td>Must try: Three Tacos Combo and Consomé!\\n\\nWh...</td>\n",
       "      <td>5</td>\n",
       "      <td>2021-01-18 07:21:31</td>\n",
       "    </tr>\n",
       "    <tr>\n",
       "      <th>1</th>\n",
       "      <td>1</td>\n",
       "      <td>7YYp_2WYWdRSt_NohV7Psw</td>\n",
       "      <td>jxOA8wOzDGbi9BNq7h47iw</td>\n",
       "      <td>If you're looking for birria tacos but don't w...</td>\n",
       "      <td>4</td>\n",
       "      <td>2021-02-03 08:34:45</td>\n",
       "    </tr>\n",
       "  </tbody>\n",
       "</table>\n",
       "</div>"
      ],
      "text/plain": [
       "   Unnamed: 0             Business ID                      ID  \\\n",
       "0           0  7YYp_2WYWdRSt_NohV7Psw  kfThRpF-hjfWjwyPgSAYRw   \n",
       "1           1  7YYp_2WYWdRSt_NohV7Psw  jxOA8wOzDGbi9BNq7h47iw   \n",
       "\n",
       "                                              Review  Rating  \\\n",
       "0  Must try: Three Tacos Combo and Consomé!\\n\\nWh...       5   \n",
       "1  If you're looking for birria tacos but don't w...       4   \n",
       "\n",
       "                  Date  \n",
       "0  2021-01-18 07:21:31  \n",
       "1  2021-02-03 08:34:45  "
      ]
     },
     "execution_count": 13,
     "metadata": {},
     "output_type": "execute_result"
    }
   ],
   "source": [
    "mex_rev_df.head(2)"
   ]
  },
  {
   "cell_type": "markdown",
   "metadata": {},
   "source": [
    "### Data Preperation\n",
    "\n",
    "After removing duplicate header rows, setting the index to a unique identifier, and casting several columns to ideal data types (i.e. rating column was converted to float), the business data was merged."
   ]
  },
  {
   "cell_type": "code",
   "execution_count": 14,
   "metadata": {},
   "outputs": [
    {
     "data": {
      "text/html": [
       "<div>\n",
       "<style scoped>\n",
       "    .dataframe tbody tr th:only-of-type {\n",
       "        vertical-align: middle;\n",
       "    }\n",
       "\n",
       "    .dataframe tbody tr th {\n",
       "        vertical-align: top;\n",
       "    }\n",
       "\n",
       "    .dataframe thead th {\n",
       "        text-align: right;\n",
       "    }\n",
       "</style>\n",
       "<table border=\"1\" class=\"dataframe\">\n",
       "  <thead>\n",
       "    <tr style=\"text-align: right;\">\n",
       "      <th></th>\n",
       "      <th>Name</th>\n",
       "      <th>Location</th>\n",
       "      <th>Rating</th>\n",
       "      <th>Price</th>\n",
       "      <th>Zipcode</th>\n",
       "      <th>Pickup</th>\n",
       "      <th>Delivery</th>\n",
       "      <th>Reservation</th>\n",
       "      <th>Review Count</th>\n",
       "      <th>Categories</th>\n",
       "      <th>Status</th>\n",
       "      <th>type</th>\n",
       "    </tr>\n",
       "    <tr>\n",
       "      <th>Id</th>\n",
       "      <th></th>\n",
       "      <th></th>\n",
       "      <th></th>\n",
       "      <th></th>\n",
       "      <th></th>\n",
       "      <th></th>\n",
       "      <th></th>\n",
       "      <th></th>\n",
       "      <th></th>\n",
       "      <th></th>\n",
       "      <th></th>\n",
       "      <th></th>\n",
       "    </tr>\n",
       "  </thead>\n",
       "  <tbody>\n",
       "    <tr>\n",
       "      <th>uazg6WhYVOw3jhWCG_MDBg</th>\n",
       "      <td>Sup Thai Kitchen</td>\n",
       "      <td>178-19 Union Tpke</td>\n",
       "      <td>4.5</td>\n",
       "      <td>$$</td>\n",
       "      <td>11366</td>\n",
       "      <td>True</td>\n",
       "      <td>True</td>\n",
       "      <td>False</td>\n",
       "      <td>374</td>\n",
       "      <td>[{'alias': 'thai', 'title': 'Thai'}, {'alias':...</td>\n",
       "      <td>False</td>\n",
       "      <td>Thai</td>\n",
       "    </tr>\n",
       "    <tr>\n",
       "      <th>cegA4jf16vEt7NCQ7cpu2w</th>\n",
       "      <td>Kin'd</td>\n",
       "      <td>192-03 Union Tpke</td>\n",
       "      <td>4.5</td>\n",
       "      <td>$$</td>\n",
       "      <td>11366</td>\n",
       "      <td>True</td>\n",
       "      <td>True</td>\n",
       "      <td>False</td>\n",
       "      <td>768</td>\n",
       "      <td>[{'alias': 'thai', 'title': 'Thai'}]</td>\n",
       "      <td>False</td>\n",
       "      <td>Thai</td>\n",
       "    </tr>\n",
       "  </tbody>\n",
       "</table>\n",
       "</div>"
      ],
      "text/plain": [
       "                                    Name           Location  Rating Price  \\\n",
       "Id                                                                          \n",
       "uazg6WhYVOw3jhWCG_MDBg  Sup Thai Kitchen  178-19 Union Tpke     4.5    $$   \n",
       "cegA4jf16vEt7NCQ7cpu2w             Kin'd  192-03 Union Tpke     4.5    $$   \n",
       "\n",
       "                       Zipcode Pickup Delivery Reservation  Review Count  \\\n",
       "Id                                                                         \n",
       "uazg6WhYVOw3jhWCG_MDBg   11366   True     True       False           374   \n",
       "cegA4jf16vEt7NCQ7cpu2w   11366   True     True       False           768   \n",
       "\n",
       "                                                               Categories  \\\n",
       "Id                                                                          \n",
       "uazg6WhYVOw3jhWCG_MDBg  [{'alias': 'thai', 'title': 'Thai'}, {'alias':...   \n",
       "cegA4jf16vEt7NCQ7cpu2w               [{'alias': 'thai', 'title': 'Thai'}]   \n",
       "\n",
       "                       Status  type  \n",
       "Id                                   \n",
       "uazg6WhYVOw3jhWCG_MDBg  False  Thai  \n",
       "cegA4jf16vEt7NCQ7cpu2w  False  Thai  "
      ]
     },
     "execution_count": 14,
     "metadata": {},
     "output_type": "execute_result"
    }
   ],
   "source": [
    "df.head(2)"
   ]
  },
  {
   "cell_type": "markdown",
   "metadata": {},
   "source": [
    "# Analysis\n",
    "### Restaurant Prices\n",
    "Most thai and mexican restaurants fall withing the one to two dollar sign pricing, this creating an opportunity for a more upscale restaurant in the three or more dollar sign price range."
   ]
  },
  {
   "cell_type": "markdown",
   "metadata": {},
   "source": [
    "Prices from the Yelp API were provided as `$` string objects, so in order to utilize the data, it was converted to an integer representing the number of `$` in the string."
   ]
  },
  {
   "cell_type": "code",
   "execution_count": 3,
   "metadata": {},
   "outputs": [
    {
     "data": {
      "image/png": "[encoded data removed]",
      "text/plain": [
       "<Figure size 648x360 with 1 Axes>"
      ]
     },
     "metadata": {},
     "output_type": "display_data"
    }
   ],
   "source": [
    "rest_price_visual()"
   ]
  },
  {
   "cell_type": "markdown",
   "metadata": {},
   "source": [
    "### Restaurant Services\n",
    "The majority of restaurants in either cuisine type offer both pickup and delivery options. The lack of Thai and Mexican restaurants offering reservations leads to room for growth for restaurants with dine-in services. The demand for dine-in services are likely to grow post COVID-19."
   ]
  },
  {
   "cell_type": "markdown",
   "metadata": {},
   "source": [
    "The Yelp API grouped together all services as one column, so in order to better utilize the data, seperate columns were created to categorize each service type seperately. "
   ]
  },
  {
   "cell_type": "code",
   "execution_count": 2,
   "metadata": {},
   "outputs": [
    {
     "name": "stderr",
     "output_type": "stream",
     "text": [
      "/Users/anishamalhotra/Documents/Flatiron/Phase1Project/Code/functions.py:180: MatplotlibDeprecationWarning: Passing the minor parameter of set_ticks() positionally is deprecated since Matplotlib 3.2; the parameter will become keyword-only two minor releases later.\n",
      "  axes.set_xticks(ind + width/ 2, ('Pickup', 'Delivery', 'Reservation'))\n",
      "/Users/anishamalhotra/Documents/Flatiron/Phase1Project/Code/functions.py:181: UserWarning: FixedFormatter should only be used together with FixedLocator\n",
      "  axes.set_xticklabels(['','Pickup','', 'Delivery','', 'Reservation'])\n"
     ]
    },
    {
     "data": {
      "image/png": "[encoded data removed]",
      "text/plain": [
       "<Figure size 648x360 with 1 Axes>"
      ]
     },
     "metadata": {},
     "output_type": "display_data"
    }
   ],
   "source": [
    "rest_services_visual()"
   ]
  },
  {
   "cell_type": "markdown",
   "metadata": {},
   "source": [
    "### Restaurant Ratings\n",
    "\n",
    "Ratings for both types of cuisines are similar (mean and median = 4.0), which requires a deeper analysis in order to make a decision between both cuisine types.\n"
   ]
  },
  {
   "cell_type": "code",
   "execution_count": 15,
   "metadata": {},
   "outputs": [
    {
     "data": {
      "image/png": "[encoded data removed]",
      "text/plain": [
       "<Figure size 432x288 with 1 Axes>"
      ]
     },
     "metadata": {},
     "output_type": "display_data"
    },
    {
     "data": {
      "image/png": "[encoded data removed]",
      "text/plain": [
       "<Figure size 432x288 with 1 Axes>"
      ]
     },
     "metadata": {},
     "output_type": "display_data"
    }
   ],
   "source": [
    "rating_box_and_whisk()\n",
    "rating_hist()"
   ]
  },
  {
   "cell_type": "markdown",
   "metadata": {},
   "source": [
    "### High Performance Restaurants\n",
    "After filtering our restaurants to those with ratings with a 4.5 or higher and review count of 100 and higher, the data showed most restaurants were Thai. Therefore, higher quality Mexican restaurant have less competition and increased opportunity for growth."
   ]
  },
  {
   "cell_type": "code",
   "execution_count": 6,
   "metadata": {},
   "outputs": [
    {
     "name": "stderr",
     "output_type": "stream",
     "text": [
      "/Users/anishamalhotra/Documents/Flatiron/Phase1Project/Code/functions.py:270: UserWarning: FixedFormatter should only be used together with FixedLocator\n",
      "  ax.set_yticklabels(['Thai', 'Mexican'])\n"
     ]
    },
    {
     "data": {
      "image/png": "[encoded data removed]",
      "text/plain": [
       "<Figure size 720x360 with 1 Axes>"
      ]
     },
     "metadata": {},
     "output_type": "display_data"
    }
   ],
   "source": [
    "high_performingrest_visual()"
   ]
  },
  {
   "cell_type": "markdown",
   "metadata": {},
   "source": [
    "# Conclusion\n",
    "This analysis leads to three recommendations potential restuarant investments in New York City:\n",
    "\n",
    "<ul>\n",
    "  <li><b>Design a restaurant catered towards a more upscale experience.</b> The majority of Thai and Mexican restaurants are at a lower price point, which creates opportunity for higher priced restaurants.</li>\n",
    "    \n",
    "  <li><b>Offer a dine-in experience which allows for making reservations.</b> Currently, the Thai and Mexican restaurant is flooded with pickup and delivery options, not leaving enough room for those who enjoy the dine-in experience.</li>\n",
    "    \n",
    "  <li><b>Focus on the Mexican Cuisine Industry.</b> Due to the volume of Thai restuarants with high ratings and reviews, the Mexican restaurant industry offers less competition based on the higher quality metric.</li>\n",
    "</ul>"
   ]
  },
  {
   "cell_type": "markdown",
   "metadata": {},
   "source": [
    "# Next Steps\n",
    "\n",
    "Further analysis could benefit from the following:\n",
    "<ul>\n",
    "  <li> Thorough analysis on costs of running a restaurant (e.g. ingredient costs, staff costs, real-estate, licensing, etc.)</li>\n",
    "  <li> Numerical price data in order to have a more detailed analysis</li>\n",
    "  <li> Get full text of each review to allow further analysis on customer satisfaction</li>\n",
    "</ul>\n",
    "\n",
    "\n",
    " \n",
    "\n",
    "\n"
   ]
  }
 ],
 "metadata": {
  "kernelspec": {
   "display_name": "Python 3",
   "language": "python",
   "name": "python3"
  },
  "language_info": {
   "codemirror_mode": {
    "name": "ipython",
    "version": 3
   },
   "file_extension": ".py",
   "mimetype": "text/x-python",
   "name": "python",
   "nbconvert_exporter": "python",
   "pygments_lexer": "ipython3",
   "version": "3.8.5"
  }
 },
 "nbformat": 4,
 "nbformat_minor": 4
}
